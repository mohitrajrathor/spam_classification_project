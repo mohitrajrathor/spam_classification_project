{
 "cells": [
  {
   "cell_type": "markdown",
   "id": "a51589b1-0d14-4b72-ad62-2a7fbc867151",
   "metadata": {},
   "source": [
    "# Email Spam Classification Project"
   ]
  },
  {
   "cell_type": "markdown",
   "id": "3843c107-3373-432a-a86a-f36f2165896d",
   "metadata": {},
   "source": [
    "## Data Loading \n",
    "> DATA - SOURCE : `https://spamassassin.apache.org/old/publiccorpus/` "
   ]
  },
  {
   "cell_type": "code",
   "execution_count": 34,
   "id": "9f166551-04c6-4448-803f-b65bd36ad5e5",
   "metadata": {},
   "outputs": [],
   "source": [
    "# script to fetching data from apache https://spamassassin.apache.org/old/publiccorpus/\n",
    "import tarfile\n",
    "from pathlib import Path\n",
    "import urllib\n",
    "\n",
    "def fetch_spam_data():\n",
    "    spam_root = \"http://spamassassin.apache.org/old/publiccorpus/\"\n",
    "    ham_url = spam_root + \"20030228_easy_ham.tar.bz2\"\n",
    "    spam_url = spam_root + \"20030228_spam.tar.bz2\"\n",
    "\n",
    "    spam_path = Path('../') / \"data\" / \"spam\"\n",
    "    spam_path.mkdir(parents=True, exist_ok=True)\n",
    "    for dir_name, tar_name, url in ((\"easy_ham\", \"ham\", ham_url),\n",
    "                                    (\"spam\", \"spam\", spam_url)):\n",
    "        if not (spam_path / dir_name).is_dir():\n",
    "            path = (spam_path / tar_name).with_suffix(\".tar.bz2\")\n",
    "            print(\"Downloading\", path)\n",
    "            urllib.request.urlretrieve(url, path)\n",
    "            tar_bz2_file = tarfile.open(path)\n",
    "            tar_bz2_file.extractall(path=spam_path)\n",
    "            tar_bz2_file.close()\n",
    "    return [spam_path / dir_name for dir_name in (\"easy_ham\", \"spam\")]"
   ]
  },
  {
   "cell_type": "code",
   "execution_count": 35,
   "id": "17c54b2b-4429-434f-817c-325c14410e14",
   "metadata": {},
   "outputs": [
    {
     "name": "stdout",
     "output_type": "stream",
     "text": [
      "Downloading ..\\data\\spam\\ham.tar.bz2\n",
      "Downloading ..\\data\\spam\\spam.tar.bz2\n"
     ]
    }
   ],
   "source": [
    "ham_dir, spam_dir = fetch_spam_data()"
   ]
  },
  {
   "cell_type": "code",
   "execution_count": 37,
   "id": "a06a1d3f-53ea-460b-820c-346753cc8f4f",
   "metadata": {},
   "outputs": [
    {
     "name": "stdout",
     "output_type": "stream",
     "text": [
      "Ham filenames : 2500\n",
      "Spam Filenames : 500\n"
     ]
    }
   ],
   "source": [
    "ham_filenames = [f for f in sorted(ham_dir.iterdir()) if len(f.name) > 20]\n",
    "spam_filenames = [f for f in sorted(spam_dir.iterdir()) if len(f.name) > 20]\n",
    "\n",
    "print(\"Ham filenames :\", len(ham_filenames))\n",
    "print(\"Spam Filenames :\", len(spam_filenames))"
   ]
  },
  {
   "cell_type": "code",
   "execution_count": null,
   "id": "f087ea69-a2dc-49a6-b535-b478b114b4ed",
   "metadata": {},
   "outputs": [],
   "source": []
  }
 ],
 "metadata": {
  "kernelspec": {
   "display_name": "Python 3 (ipykernel)",
   "language": "python",
   "name": "python3"
  },
  "language_info": {
   "codemirror_mode": {
    "name": "ipython",
    "version": 3
   },
   "file_extension": ".py",
   "mimetype": "text/x-python",
   "name": "python",
   "nbconvert_exporter": "python",
   "pygments_lexer": "ipython3",
   "version": "3.11.9"
  }
 },
 "nbformat": 4,
 "nbformat_minor": 5
}
